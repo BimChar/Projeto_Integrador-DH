{
 "cells": [
  {
   "cell_type": "markdown",
   "metadata": {},
   "source": [
    "# Projeto Integrador - Grupo 4 "
   ]
  },
  {
   "cell_type": "markdown",
   "metadata": {},
   "source": [
    "## 1.Definição do problema a ser atacado\n",
    "O problema é baseado num problema frequente e de difícil solução que existe nas universidades, a evasão:\n",
    "### _\"Como prever quais alunos irão se evadir dos cursos, entender suas peculiaridades e propor políticas voltadas especificamente a cada aluno.\"_"
   ]
  },
  {
   "cell_type": "markdown",
   "metadata": {},
   "source": [
    "## 2.Coleta de dados e informações\n",
    "\n",
    "De acordo com o site resultadoenade.com [1] a evasão está relacionada com seis fatores:\n",
    "1. Baixa qualidade do ensino médio\n",
    "2. Inadimplência\n",
    "3. Estagnação do método de ensino\n",
    "4. Indisponibilidade de tempo\n",
    "5. Motivos pessoais\n",
    "6. Não identificação com o curso\n",
    "\n",
    "No estudo _Causas de evasão de alunos nos cursos de graduação presencial da UFPE_ [2], podemos encontrar as causa de evasão de diversas Universidades do Brasil resumidas no Quadro 1 abaixo.\n",
    "\n",
    "Ainda de acordo com esse mesmo estudos os fatores principais de evasão são:\n",
    "1. Fatores Individuais --> 60,22% \n",
    "2. Fatores Externos à UFPE --> 24,46%\n",
    "3. Fatores Internos à UFPE --> 8,87%\n",
    "4. Fatores Individuais e Externos à UFPE --> 4,03%\n",
    "5. Fatores Internos e Externos à UFPE --> 1,61%\n",
    "6. Fatores Individuais e Internos à UFPE --> 0,81%\n",
    "\n",
    "<img src='img/evasões.jpg' alt=\"Motivos de Evasão Universidades Brasil\" width=\"600\" height=\"600\" style=\"float:left\">"
   ]
  },
  {
   "cell_type": "markdown",
   "metadata": {},
   "source": [
    "## 3.Definição das hipóteses\n",
    "1.As condições sociais...\n",
    "\n"
   ]
  },
  {
   "cell_type": "markdown",
   "metadata": {},
   "source": [
    "## 4.Análise e discussão dos dados"
   ]
  },
  {
   "cell_type": "code",
   "execution_count": null,
   "metadata": {},
   "outputs": [],
   "source": []
  },
  {
   "cell_type": "markdown",
   "metadata": {},
   "source": [
    "## 5.Bibliografia\n",
    "[1]http://www.resultadoenade.com/6-fatores-que-influenciam-a-evasao-escolar-no-ensino-superior/\n",
    "\n",
    "[2]RAPOSO, M.C.F.; CAMPOS, J.D.S. Causas de evasão de alunos nos cursos de graduação presencial da UFPE. Recife, 2016, p.7.\n",
    "\n",
    "[3]https://guiadoestudante.abril.com.br/universidades/cerca-de-900-mil-estudantes-abandonam-a-faculdade-antes-de-se-formar/\n",
    "\n",
    "[4]https://opiniao.estadao.com.br/noticias/geral,a-evasao-no-ensino-superior,70002195900"
   ]
  },
  {
   "cell_type": "code",
   "execution_count": null,
   "metadata": {},
   "outputs": [],
   "source": []
  }
 ],
 "metadata": {
  "kernelspec": {
   "display_name": "Python 3",
   "language": "python",
   "name": "python3"
  },
  "language_info": {
   "codemirror_mode": {
    "name": "ipython",
    "version": 3
   },
   "file_extension": ".py",
   "mimetype": "text/x-python",
   "name": "python",
   "nbconvert_exporter": "python",
   "pygments_lexer": "ipython3",
   "version": "3.6.6"
  }
 },
 "nbformat": 4,
 "nbformat_minor": 2
}
