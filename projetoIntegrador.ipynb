{
 "cells": [
  {
   "cell_type": "markdown",
   "metadata": {},
   "source": [
    "# Projeto Integrador - Grupo 4 "
   ]
  },
  {
   "cell_type": "markdown",
   "metadata": {},
   "source": [
    "## 1.Definição do problema a ser atacado\n",
    "Por que o Brasil têm baixa eficiência nos resultados de educação com investimento comparável com os primeiros colocados (problema a ser verificar)"
   ]
  },
  {
   "cell_type": "markdown",
   "metadata": {},
   "source": [
    "## 2.Coleta de dados e informações\n",
    "\n",
    "De acordo com o site resultadoenade.com [1] a evasão está relacionada com seis fatores:\n",
    "1. Baixa qualidade do ensino médio\n",
    "2. Inadimplência\n",
    "3. Estagnação do método de ensino\n",
    "4. Indisponibilidade de tempo\n",
    "5. Motivos pessoais\n",
    "6. Não identificação com o curso\n",
    "\n",
    "No estudo _Causas de evasão de alunos nos cursos de graduação presencial da UFPE_ [2], podemos encontrar as causa de evasão de diversas Universidades do Brasil resumidas no Quadro 1 abaixo.\n",
    "\n",
    "Ainda de acordo com esse mesmo estudos os fatores principais de evasão são:\n",
    "1. Fatores Individuais --> 60,22% \n",
    "2. Fatores Externos à UFPE --> 24,46%\n",
    "3. Fatores Internos à UFPE --> 8,87%\n",
    "4. Fatores Individuais e Externos à UFPE --> 4,03%\n",
    "5. Fatores Internos e Externos à UFPE --> 1,61%\n",
    "6. Fatores Individuais e Internos à UFPE --> 0,81%\n",
    "\n",
    "<img src='img/evasões.jpg' alt=\"Motivos de Evasão Universidades Brasil\" width=\"600\" height=\"600\" style=\"float:left\">"
   ]
  },
  {
   "cell_type": "markdown",
   "metadata": {},
   "source": [
    "## 3.Definição das hipóteses\n",
    "1.As condições sociais...\n",
    "\n"
   ]
  },
  {
   "cell_type": "markdown",
   "metadata": {},
   "source": [
    "## 4.Análise e discussão dos dados"
   ]
  },
  {
   "cell_type": "code",
   "execution_count": null,
   "metadata": {},
   "outputs": [],
   "source": []
  },
  {
   "cell_type": "markdown",
   "metadata": {},
   "source": [
    "## 5.Bibliografia\n",
    "[1]http://www.resultadoenade.com/6-fatores-que-influenciam-a-evasao-escolar-no-ensino-superior/\n",
    "\n",
    "[2]RAPOSO, M.C.F.; CAMPOS, J.D.S. Causas de evasão de alunos nos cursos de graduação presencial da UFPE. Recife, 2016, p.7.\n",
    "\n",
    "[3]https://guiadoestudante.abril.com.br/universidades/cerca-de-900-mil-estudantes-abandonam-a-faculdade-antes-de-se-formar/\n",
    "\n",
    "[4]https://opiniao.estadao.com.br/noticias/geral,a-evasao-no-ensino-superior,70002195900"
   ]
  },
  {
   "cell_type": "code",
   "execution_count": 1,
   "metadata": {},
   "outputs": [],
   "source": [
    "import numpy as np\n",
    "import pandas as pd"
   ]
  },
  {
   "cell_type": "code",
   "execution_count": 4,
   "metadata": {},
   "outputs": [],
   "source": [
    "df = pd.read_csv('Dados\\DP_LIVE_24102018031945916.csv')"
   ]
  },
  {
   "cell_type": "code",
   "execution_count": 5,
   "metadata": {},
   "outputs": [
    {
     "data": {
      "text/html": [
       "<div>\n",
       "<style scoped>\n",
       "    .dataframe tbody tr th:only-of-type {\n",
       "        vertical-align: middle;\n",
       "    }\n",
       "\n",
       "    .dataframe tbody tr th {\n",
       "        vertical-align: top;\n",
       "    }\n",
       "\n",
       "    .dataframe thead th {\n",
       "        text-align: right;\n",
       "    }\n",
       "</style>\n",
       "<table border=\"1\" class=\"dataframe\">\n",
       "  <thead>\n",
       "    <tr style=\"text-align: right;\">\n",
       "      <th></th>\n",
       "      <th>LOCATION</th>\n",
       "      <th>INDICATOR</th>\n",
       "      <th>SUBJECT</th>\n",
       "      <th>MEASURE</th>\n",
       "      <th>FREQUENCY</th>\n",
       "      <th>TIME</th>\n",
       "      <th>Value</th>\n",
       "      <th>Flag Codes</th>\n",
       "    </tr>\n",
       "  </thead>\n",
       "  <tbody>\n",
       "    <tr>\n",
       "      <th>0</th>\n",
       "      <td>AUT</td>\n",
       "      <td>EDUEXP</td>\n",
       "      <td>TRY</td>\n",
       "      <td>USD_STUDENT</td>\n",
       "      <td>A</td>\n",
       "      <td>1995</td>\n",
       "      <td>NaN</td>\n",
       "      <td>M</td>\n",
       "    </tr>\n",
       "    <tr>\n",
       "      <th>1</th>\n",
       "      <td>AUT</td>\n",
       "      <td>EDUEXP</td>\n",
       "      <td>TRY</td>\n",
       "      <td>USD_STUDENT</td>\n",
       "      <td>A</td>\n",
       "      <td>2000</td>\n",
       "      <td>NaN</td>\n",
       "      <td>M</td>\n",
       "    </tr>\n",
       "    <tr>\n",
       "      <th>2</th>\n",
       "      <td>AUT</td>\n",
       "      <td>EDUEXP</td>\n",
       "      <td>TRY</td>\n",
       "      <td>USD_STUDENT</td>\n",
       "      <td>A</td>\n",
       "      <td>2005</td>\n",
       "      <td>NaN</td>\n",
       "      <td>M</td>\n",
       "    </tr>\n",
       "    <tr>\n",
       "      <th>3</th>\n",
       "      <td>AUT</td>\n",
       "      <td>EDUEXP</td>\n",
       "      <td>TRY</td>\n",
       "      <td>USD_STUDENT</td>\n",
       "      <td>A</td>\n",
       "      <td>2008</td>\n",
       "      <td>NaN</td>\n",
       "      <td>M</td>\n",
       "    </tr>\n",
       "    <tr>\n",
       "      <th>4</th>\n",
       "      <td>AUT</td>\n",
       "      <td>EDUEXP</td>\n",
       "      <td>TRY</td>\n",
       "      <td>USD_STUDENT</td>\n",
       "      <td>A</td>\n",
       "      <td>2009</td>\n",
       "      <td>NaN</td>\n",
       "      <td>M</td>\n",
       "    </tr>\n",
       "  </tbody>\n",
       "</table>\n",
       "</div>"
      ],
      "text/plain": [
       "  LOCATION INDICATOR SUBJECT      MEASURE FREQUENCY  TIME  Value Flag Codes\n",
       "0      AUT    EDUEXP     TRY  USD_STUDENT         A  1995    NaN          M\n",
       "1      AUT    EDUEXP     TRY  USD_STUDENT         A  2000    NaN          M\n",
       "2      AUT    EDUEXP     TRY  USD_STUDENT         A  2005    NaN          M\n",
       "3      AUT    EDUEXP     TRY  USD_STUDENT         A  2008    NaN          M\n",
       "4      AUT    EDUEXP     TRY  USD_STUDENT         A  2009    NaN          M"
      ]
     },
     "execution_count": 5,
     "metadata": {},
     "output_type": "execute_result"
    }
   ],
   "source": [
    "df.head()"
   ]
  },
  {
   "cell_type": "code",
   "execution_count": 6,
   "metadata": {},
   "outputs": [
    {
     "name": "stdout",
     "output_type": "stream",
     "text": [
      "<class 'pandas.core.frame.DataFrame'>\n",
      "RangeIndex: 5401 entries, 0 to 5400\n",
      "Data columns (total 8 columns):\n",
      "LOCATION      5401 non-null object\n",
      "INDICATOR     5401 non-null object\n",
      "SUBJECT       5401 non-null object\n",
      "MEASURE       5401 non-null object\n",
      "FREQUENCY     5401 non-null object\n",
      "TIME          5401 non-null int64\n",
      "Value         2507 non-null float64\n",
      "Flag Codes    2894 non-null object\n",
      "dtypes: float64(1), int64(1), object(6)\n",
      "memory usage: 337.6+ KB\n"
     ]
    }
   ],
   "source": [
    "df.info()"
   ]
  },
  {
   "cell_type": "code",
   "execution_count": null,
   "metadata": {},
   "outputs": [],
   "source": []
  }
 ],
 "metadata": {
  "kernelspec": {
   "display_name": "Python 3",
   "language": "python",
   "name": "python3"
  },
  "language_info": {
   "codemirror_mode": {
    "name": "ipython",
    "version": 3
   },
   "file_extension": ".py",
   "mimetype": "text/x-python",
   "name": "python",
   "nbconvert_exporter": "python",
   "pygments_lexer": "ipython3",
   "version": "3.6.6"
  }
 },
 "nbformat": 4,
 "nbformat_minor": 2
}
